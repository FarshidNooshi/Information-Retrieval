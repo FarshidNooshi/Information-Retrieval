{
 "cells": [
  {
   "cell_type": "code",
   "execution_count": 1,
   "metadata": {},
   "outputs": [],
   "source": [
    "from __future__ import unicode_literals\n",
    "\n",
    "import json\n",
    "from hazm import *\n",
    "\n",
    "def read_file():\n",
    "    docs_title = []\n",
    "    docs_content = []\n",
    "    docs_url = []\n",
    "    with open('assets/IR_data_news_12k.json', encoding='UTF-8') as f:\n",
    "        data = json.load(f)\n",
    "        for i in data:\n",
    "            docs_title.append(data[i][\"title\"])\n",
    "            docs_content.append(data[i][\"content\"])\n",
    "            docs_url.append(data[i]['url'])\n",
    "    return docs_url, docs_title, docs_content\n",
    "\n",
    "normalizer = Normalizer()"
   ]
  },
  {
   "cell_type": "code",
   "execution_count": 2,
   "metadata": {
    "pycharm": {
     "name": "#%%\n"
    }
   },
   "outputs": [
    {
     "data": {
      "text/plain": "'اصلاح نویسه\\u200cها و استفاده از نیم\\u200cفاصله پردازش را آسان می\\u200cکند'"
     },
     "execution_count": 2,
     "metadata": {},
     "output_type": "execute_result"
    }
   ],
   "source": [
    "normalizer.normalize('اصلاح نويسه ها و استفاده از نیم‌فاصله پردازش را آسان مي كند')"
   ]
  },
  {
   "cell_type": "code",
   "execution_count": null,
   "outputs": [],
   "source": [],
   "metadata": {
    "collapsed": false,
    "pycharm": {
     "name": "#%%\n"
    }
   }
  }
 ],
 "metadata": {
  "kernelspec": {
   "display_name": "Python 3 (ipykernel)",
   "language": "python",
   "name": "python3"
  },
  "language_info": {
   "codemirror_mode": {
    "name": "ipython",
    "version": 3
   },
   "file_extension": ".py",
   "mimetype": "text/x-python",
   "name": "python",
   "nbconvert_exporter": "python",
   "pygments_lexer": "ipython3",
   "version": "3.9.7"
  }
 },
 "nbformat": 4,
 "nbformat_minor": 1
}