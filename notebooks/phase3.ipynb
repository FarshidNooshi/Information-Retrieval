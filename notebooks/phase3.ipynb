{
 "cells": [
  {
   "cell_type": "code",
   "execution_count": 22,
   "metadata": {
    "collapsed": true
   },
   "outputs": [
    {
     "name": "stderr",
     "output_type": "stream",
     "text": [
      "UsageError: Line magic function `%python3` not found (But cell magic `%%python3` exists, did you mean that instead?).\n"
     ]
    }
   ],
   "source": [
    "from __future__ import unicode_literals\n",
    "\n",
    "import json\n",
    "\n",
    "%pip install hazm\n",
    "from hazm import *\n",
    "\n",
    "\n",
    "def read_file():\n",
    "    documents_title = []\n",
    "    documents_content = []\n",
    "    documents_url = []\n",
    "    with open('../Phase_1/assets/IR_data_news_12k.json', encoding='UTF-8') as f:\n",
    "        data = json.load(f)\n",
    "        for i in data:\n",
    "            documents_title.append(data[i][\"title\"])\n",
    "            documents_content.append(data[i][\"content\"])\n",
    "            documents_url.append(data[i]['url'])\n",
    "    return documents_url, documents_title, documents_content\n",
    "\n",
    "\n",
    "docs_url, docs_title, docs_content = read_file()\n",
    "normalizer = Normalizer()"
   ]
  },
  {
   "cell_type": "code",
   "execution_count": null,
   "metadata": {},
   "outputs": [],
   "source": []
  }
 ],
 "metadata": {
  "kernelspec": {
   "display_name": "Python 3.10.0 ('my_env': venv)",
   "language": "python",
   "name": "python3"
  },
  "language_info": {
   "codemirror_mode": {
    "name": "ipython",
    "version": 3
   },
   "file_extension": ".py",
   "mimetype": "text/x-python",
   "name": "python",
   "nbconvert_exporter": "python",
   "pygments_lexer": "ipython3",
   "version": "3.10.0"
  },
  "vscode": {
   "interpreter": {
    "hash": "6c2cd5a1955132356c9d3b85a8a352ec1c2b340d270ef36678734e3eb3412b7d"
   }
  }
 },
 "nbformat": 4,
 "nbformat_minor": 0
}
